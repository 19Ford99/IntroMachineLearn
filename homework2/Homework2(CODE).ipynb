{
 "cells": [
  {
   "cell_type": "code",
   "execution_count": null,
   "id": "8794a76b",
   "metadata": {},
   "outputs": [],
   "source": [
    "# importing libraries\n",
    "import pandas as pd\n",
    "import numpy as np\n",
    "\n",
    "# data visualization\n",
    "import matplotlib.pyplot as plt\n",
    "import seaborn as sns\n",
    "from sklearn.model_selection import KFold\n",
    "from sklearn.model_selection import train_test_split\n",
    "from sklearn.preprocessing import StandardScaler \n",
    "from sklearn.linear_model import LogisticRegression\n",
    "from sklearn.metrics import confusion_matrix\n",
    "from sklearn.metrics import accuracy_score, precision_score, recall_score\n",
    "from sklearn import datasets\n",
    "from sklearn.model_selection import cross_validate\n",
    "from sklearn.metrics import classification_report\n",
    "from sklearn.model_selection import cross_val_score"
   ]
  },
  {
   "cell_type": "code",
   "execution_count": null,
   "id": "6f2322ce",
   "metadata": {},
   "outputs": [],
   "source": [
    "diabetes = pd.read_csv('diabetes.csv')\n",
    "\n",
    "X = diabetes.iloc[:,0:8].values \n",
    "Y = diabetes.iloc[:, 8].values\n",
    "\n",
    "# Splitting the data for problems 1 and 2\n",
    "X_train, X_test, Y_train, Y_test = train_test_split(X, Y, train_size = 0.8, test_size = 0.2, random_state=42)"
   ]
  },
  {
   "cell_type": "code",
   "execution_count": null,
   "id": "6348eb6a",
   "metadata": {},
   "outputs": [],
   "source": [
    "# Problem 1\n",
    "\n",
    "# Create a scaler object\n",
    "sc = StandardScaler()\n",
    "\n",
    "# Fit the scaler to the training data and transform\n",
    "X_train_std = sc.fit_transform(X_train)\n",
    "\n",
    "# Apply the scaler to the test data\n",
    "X_test_std = sc.transform(X_test)\n",
    "\n",
    "model = LogisticRegression(solver='liblinear')\n",
    "model.fit(X_train, Y_train)\n",
    "predicted = model.predict(X_test)"
   ]
  },
  {
   "cell_type": "code",
   "execution_count": null,
   "id": "f218687a",
   "metadata": {},
   "outputs": [],
   "source": [
    "matrix = confusion_matrix(Y_test, predicted)\n",
    "report = classification_report(Y_test, predicted)\n",
    "print('For Problem 1:')\n",
    "print('')\n",
    "print(\"Accuracy: %.3f%%\" % (accuracy_score(Y_test, predicted)*100.0))\n",
    "print(\"Precision: %.3f%%\" % (precision_score(Y_test, predicted)*100.0))\n",
    "print(\"Recall: %.3f%%\" % (recall_score(Y_test, predicted)*100.0))"
   ]
  },
  {
   "cell_type": "code",
   "execution_count": null,
   "id": "4be27dde",
   "metadata": {},
   "outputs": [],
   "source": [
    "class_names=[0,1] #name of classes\n",
    "fig, ax =plt.subplots()\n",
    "tick_marks = np.arange(len(class_names))\n",
    "plt.xticks(tick_marks, class_names)\n",
    "plt.yticks(tick_marks, class_names)\n",
    "#create heatmap\n",
    "sns.heatmap(pd.DataFrame(matrix), annot=True, cmap=\"YlGnBu\" ,fmt='g')\n",
    "ax.xaxis.set_label_position(\"top\")\n",
    "print('For Problem 1:')\n",
    "plt.tight_layout()\n",
    "plt.title('Confusion matrix', y=1.1)\n",
    "plt.ylabel('Actual label')\n",
    "plt.xlabel('Predicted label');"
   ]
  },
  {
   "cell_type": "code",
   "execution_count": null,
   "id": "645c489c",
   "metadata": {},
   "outputs": [],
   "source": [
    "# Problem 2\n",
    "# Create a scaler object\n",
    "sc = StandardScaler()\n",
    "\n",
    "# Fit the scaler to the training data and transform\n",
    "X_train = sc.fit_transform(X_train)\n",
    "\n",
    "# Apply the scaler to the test data\n",
    "X_test = sc.transform(X_test)"
   ]
  },
  {
   "cell_type": "code",
   "execution_count": null,
   "id": "5bf5d7e9",
   "metadata": {},
   "outputs": [],
   "source": [
    "# 5 folds selected\n",
    "kfold = KFold(n_splits=5, random_state=42, shuffle=True)\n",
    "metrics = ['accuracy', 'precision', 'recall']\n",
    "model = LogisticRegression(solver='liblinear')\n",
    "results = cross_validate(model, X, Y,scoring=metrics, cv=kfold)\n",
    "print('For Problem 2:')\n",
    "print('')\n",
    "print(\"Accuracy for K=5: %.3f%%\" % (results['test_accuracy'].mean()*100.0))\n",
    "print(\"Rrecision for K=5: %.3f%%\" % (results['test_precision'].mean()*100.0))\n",
    "print(\"Recall for K=5: %.3f%%\" % (results['test_recall'].mean()*100.0))"
   ]
  },
  {
   "cell_type": "code",
   "execution_count": null,
   "id": "ba0c1bc0",
   "metadata": {},
   "outputs": [],
   "source": [
    "# 10 folds selected\n",
    "kfold = KFold(n_splits=10, random_state=42, shuffle=True)\n",
    "metrics = ['accuracy', 'precision', 'recall']\n",
    "model = LogisticRegression(solver='liblinear')\n",
    "results = cross_validate(model, X, Y,scoring=metrics, cv=kfold)\n",
    "print('For Problem 2:')\n",
    "print('')\n",
    "print(\"Accuracy for K=10: %.3f%%\" % (results['test_accuracy'].mean()*100.0))\n",
    "print(\"Rrecision for K=10: %.3f%%\" % (results['test_precision'].mean()*100.0))\n",
    "print(\"Recall for K=10: %.3f%%\" % (results['test_recall'].mean()*100.0))"
   ]
  },
  {
   "cell_type": "code",
   "execution_count": null,
   "id": "affe8bfe",
   "metadata": {},
   "outputs": [],
   "source": [
    "# Problem 3\n",
    "# Part 1\n",
    "from sklearn.datasets import load_breast_cancer\n",
    "\n",
    "breast = load_breast_cancer()\n",
    "\n",
    "breast_data = breast.data"
   ]
  },
  {
   "cell_type": "code",
   "execution_count": null,
   "id": "57cf982a",
   "metadata": {},
   "outputs": [],
   "source": [
    "breast_input=pd.DataFrame(breast_data)"
   ]
  },
  {
   "cell_type": "code",
   "execution_count": null,
   "id": "84dc0cda",
   "metadata": {},
   "outputs": [],
   "source": [
    "breast_labels = breast.target"
   ]
  },
  {
   "cell_type": "code",
   "execution_count": null,
   "id": "97a7083d",
   "metadata": {},
   "outputs": [],
   "source": [
    "labels = np.reshape(breast_labels,(569,1))"
   ]
  },
  {
   "cell_type": "code",
   "execution_count": null,
   "id": "dc7633ef",
   "metadata": {},
   "outputs": [],
   "source": [
    "final_breast_data = np.concatenate([breast_data,labels],axis=1)"
   ]
  },
  {
   "cell_type": "code",
   "execution_count": null,
   "id": "930616ff",
   "metadata": {},
   "outputs": [],
   "source": [
    "breast_dataset=pd.DataFrame(final_breast_data)\n",
    "features = breast.feature_names"
   ]
  },
  {
   "cell_type": "code",
   "execution_count": null,
   "id": "d5ef41b9",
   "metadata": {},
   "outputs": [],
   "source": [
    "features_labels=np.append(features,'label')\n",
    "breast_dataset.columns=features_labels"
   ]
  },
  {
   "cell_type": "code",
   "execution_count": null,
   "id": "2148b444",
   "metadata": {},
   "outputs": [],
   "source": [
    "breast_dataset['label'].replace(0, 'Benign',inplace=True)\n",
    "breast_dataset['label'].replace(1, 'Malignant',inplace=True)"
   ]
  },
  {
   "cell_type": "code",
   "execution_count": null,
   "id": "3ff1ec00",
   "metadata": {},
   "outputs": [],
   "source": [
    "X = breast_dataset.iloc[: , 0:30].values\n",
    "Y = breast_dataset.iloc[: , 30].values"
   ]
  },
  {
   "cell_type": "code",
   "execution_count": null,
   "id": "4ba4e365",
   "metadata": {},
   "outputs": [],
   "source": [
    "# Splitting the data for problems 3 and 4\n",
    "X_train, X_test, Y_train, Y_test = train_test_split(X, Y, train_size = 0.8, test_size = 0.2, random_state=42)"
   ]
  },
  {
   "cell_type": "code",
   "execution_count": null,
   "id": "a4003d9f",
   "metadata": {},
   "outputs": [],
   "source": [
    "model = LogisticRegression(solver='liblinear')\n",
    "model.fit(X_train, Y_train)\n",
    "predicted = model.predict(X_test)"
   ]
  },
  {
   "cell_type": "code",
   "execution_count": null,
   "id": "840c8a0a",
   "metadata": {},
   "outputs": [],
   "source": [
    "matrix = confusion_matrix(Y_test, predicted)"
   ]
  },
  {
   "cell_type": "code",
   "execution_count": null,
   "id": "4be9fb5c",
   "metadata": {},
   "outputs": [],
   "source": [
    "pos_label =['Benign', 'Malignant']\n",
    "matrix = confusion_matrix(Y_test, predicted)\n",
    "report = classification_report(Y_test, predicted)\n",
    "\n",
    "print('For Problem 3.1:')\n",
    "print('')\n",
    "print(\"Accuracy: %.3f%%\" % (accuracy_score(Y_test, predicted)*100.0))\n",
    "print(\"Precision: %.3f%%\" % (precision_score(Y_test, predicted, pos_label='Benign')*100.0))\n",
    "print(\"Recall: %.3f%%\" % (recall_score(Y_test, predicted, pos_label='Malignant')*100.0))"
   ]
  },
  {
   "cell_type": "code",
   "execution_count": null,
   "id": "8d0286ec",
   "metadata": {},
   "outputs": [],
   "source": [
    "class_names=[0,1] #name of classes\n",
    "fig, ax =plt.subplots()\n",
    "tick_marks = np.arange(len(class_names))\n",
    "plt.xticks(tick_marks, class_names)\n",
    "plt.yticks(tick_marks, class_names)\n",
    "#create heatmap\n",
    "sns.heatmap(pd.DataFrame(matrix), annot=True, cmap=\"YlGnBu\" ,fmt='g')\n",
    "ax.xaxis.set_label_position(\"top\")\n",
    "print('For Problem 3.1:')\n",
    "plt.tight_layout()\n",
    "plt.title('Confusion matrix', y=1.1)\n",
    "plt.ylabel('Actual label')\n",
    "plt.xlabel('Predicted label');"
   ]
  },
  {
   "cell_type": "code",
   "execution_count": null,
   "id": "e220b02a",
   "metadata": {},
   "outputs": [],
   "source": [
    "# Problem 3\n",
    "# Part 2\n",
    "from sklearn.datasets import load_breast_cancer\n",
    "\n",
    "breast = load_breast_cancer()\n",
    "\n",
    "breast_data = breast.data"
   ]
  },
  {
   "cell_type": "code",
   "execution_count": null,
   "id": "08a89dd0",
   "metadata": {},
   "outputs": [],
   "source": [
    "breast_input=pd.DataFrame(breast_data)\n",
    "\n",
    "breast_labels = breast.target\n",
    "\n",
    "labels = np.reshape(breast_labels,(569,1))\n",
    "\n",
    "final_breast_data = np.concatenate([breast_data,labels],axis=1)\n",
    "\n",
    "breast_dataset=pd.DataFrame(final_breast_data)\n",
    "features = breast.feature_names\n",
    "\n",
    "features_labels=np.append(features,'label')\n",
    "breast_dataset.columns=features_labels\n",
    "\n",
    "breast_dataset['label'].replace(0, 'Benign',inplace=True)\n",
    "breast_dataset['label'].replace(1, 'Malignant',inplace=True)"
   ]
  },
  {
   "cell_type": "code",
   "execution_count": null,
   "id": "0a3b523f",
   "metadata": {},
   "outputs": [],
   "source": [
    "X = breast_dataset.iloc[: , 0:30].values\n",
    "Y = breast_dataset.iloc[: , 30].values"
   ]
  },
  {
   "cell_type": "code",
   "execution_count": null,
   "id": "b4754161",
   "metadata": {},
   "outputs": [],
   "source": [
    "# Splitting the data for problems 3 and 4\n",
    "X_train, X_test, Y_train, Y_test = train_test_split(X, Y, train_size = 0.8, test_size = 0.2, random_state=42)"
   ]
  },
  {
   "cell_type": "code",
   "execution_count": null,
   "id": "9d0037bb",
   "metadata": {},
   "outputs": [],
   "source": [
    "print('For Problem 3.2:')\n",
    "print('')\n",
    "C = [10, 1, .1, .001, .005]\n",
    "for c in C:\n",
    "    model = LogisticRegression(penalty='l1',C=c,solver='liblinear',max_iter=1000000)\n",
    "    model.fit(X_train, Y_train)\n",
    "    predicted = model.predict(X_test)\n",
    "    pos_label =['Benign', 'Malignant']\n",
    "    matrix = confusion_matrix(Y_test, predicted)\n",
    "    report = classification_report(Y_test, predicted)\n",
    "    print('C:', c)\n",
    "    print(\"Accuracy: %.3f%% \" % (accuracy_score(Y_test, predicted)*100.0))\n",
    "    print(\"Precision: %.3f%%\" % (precision_score(Y_test, predicted, pos_label='Benign')*100.0))\n",
    "    print(\"Recall: %.3f%%\" % (recall_score(Y_test, predicted, pos_label='Malignant')*100.0))\n",
    "    print('')"
   ]
  },
  {
   "cell_type": "code",
   "execution_count": null,
   "id": "2be31caf",
   "metadata": {},
   "outputs": [],
   "source": [
    "# Problem 4\n",
    "# Part 1\n",
    "from sklearn.datasets import load_breast_cancer\n",
    "\n",
    "breast = load_breast_cancer()\n",
    "\n",
    "breast_data = breast.data"
   ]
  },
  {
   "cell_type": "code",
   "execution_count": null,
   "id": "66d91245",
   "metadata": {},
   "outputs": [],
   "source": [
    "breast_input=pd.DataFrame(breast_data)\n",
    "\n",
    "breast_labels = breast.target\n",
    "\n",
    "labels = np.reshape(breast_labels,(569,1))\n",
    "\n",
    "final_breast_data = np.concatenate([breast_data,labels],axis=1)\n",
    "\n",
    "breast_dataset=pd.DataFrame(final_breast_data)\n",
    "features = breast.feature_names\n",
    "\n",
    "features_labels=np.append(features,'label')\n",
    "breast_dataset.columns=features_labels\n",
    "\n",
    "breast_dataset['label'].replace(0, 'Benign',inplace=True)\n",
    "breast_dataset['label'].replace(1, 'Malignant',inplace=True)"
   ]
  },
  {
   "cell_type": "code",
   "execution_count": null,
   "id": "3fc7b929",
   "metadata": {},
   "outputs": [],
   "source": [
    "X = breast_dataset.iloc[: , 0:30].values\n",
    "Y = breast_dataset.iloc[: , 30].values"
   ]
  },
  {
   "cell_type": "code",
   "execution_count": null,
   "id": "6c58909e",
   "metadata": {},
   "outputs": [],
   "source": [
    "# Splitting the data for problems 3 and 4\n",
    "X_train, X_test, Y_train, Y_test = train_test_split(X, Y, train_size = 0.8, test_size = 0.2, random_state=42)\n",
    "model = LogisticRegression(solver='liblinear')\n",
    "model.fit(X_train, Y_train)\n",
    "predicted = model.predict(X_test)"
   ]
  },
  {
   "cell_type": "code",
   "execution_count": null,
   "id": "3679054e",
   "metadata": {},
   "outputs": [],
   "source": [
    "# 5 folds selected\n",
    "matrix = confusion_matrix(Y_test, predicted)\n",
    "kfold = KFold(n_splits=5, random_state=42, shuffle=True)\n",
    "\n",
    "model = LogisticRegression(solver='liblinear')\n",
    "results = cross_val_score(model, X, Y, cv=kfold)\n",
    "\n",
    "print('For Problem 4.1:')\n",
    "print('')\n",
    "print(\"Accuracy for K=5: %.3f%%\" % (results.mean()*100.0))"
   ]
  },
  {
   "cell_type": "code",
   "execution_count": null,
   "id": "8f923c8f",
   "metadata": {},
   "outputs": [],
   "source": [
    "# 10 folds selected\n",
    "kfold = KFold(n_splits=10, random_state=42, shuffle=True)\n",
    "\n",
    "model = LogisticRegression(solver='liblinear')\n",
    "results = cross_val_score(model, X, Y, cv=kfold)\n",
    "print('For Problem 4.1:')\n",
    "print('')\n",
    "print(\"Accuracy for K=10: %.3f%%\" % (results.mean()*100.0))"
   ]
  },
  {
   "cell_type": "code",
   "execution_count": null,
   "id": "3a527f4c",
   "metadata": {
    "scrolled": true
   },
   "outputs": [],
   "source": [
    "# Problem 4\n",
    "# Part 2\n",
    "from sklearn.datasets import load_breast_cancer\n",
    "\n",
    "breast = load_breast_cancer()\n",
    "\n",
    "breast_data = breast.data"
   ]
  },
  {
   "cell_type": "code",
   "execution_count": null,
   "id": "9c466616",
   "metadata": {},
   "outputs": [],
   "source": [
    "breast_input=pd.DataFrame(breast_data)\n",
    "\n",
    "breast_labels = breast.target\n",
    "\n",
    "labels = np.reshape(breast_labels,(569,1))\n",
    "\n",
    "final_breast_data = np.concatenate([breast_data,labels],axis=1)\n",
    "\n",
    "breast_dataset=pd.DataFrame(final_breast_data)\n",
    "features = breast.feature_names\n",
    "\n",
    "features_labels=np.append(features,'label')\n",
    "breast_dataset.columns=features_labels\n",
    "\n",
    "breast_dataset['label'].replace(0, 'Benign',inplace=True)\n",
    "breast_dataset['label'].replace(1, 'Malignant',inplace=True)"
   ]
  },
  {
   "cell_type": "code",
   "execution_count": null,
   "id": "e841bd3d",
   "metadata": {},
   "outputs": [],
   "source": [
    "X = breast_dataset.iloc[: , 0:30].values\n",
    "Y = breast_dataset.iloc[: , 30].values"
   ]
  },
  {
   "cell_type": "code",
   "execution_count": null,
   "id": "b7ccbd7c",
   "metadata": {},
   "outputs": [],
   "source": [
    "# Splitting the data for problems 3 and 4\n",
    "X_train, X_test, Y_train, Y_test = train_test_split(X, Y, train_size = 0.8, test_size = 0.2, random_state=42)\n",
    "model = LogisticRegression(solver='liblinear')\n",
    "model.fit(X_train, Y_train)\n",
    "predicted = model.predict(X_test)\n",
    "matrix = confusion_matrix(Y_test, predicted)"
   ]
  },
  {
   "cell_type": "code",
   "execution_count": null,
   "id": "e66fc158",
   "metadata": {},
   "outputs": [],
   "source": [
    "# 5 folds selected\n",
    "print('For Problem 4.2:')\n",
    "print('')\n",
    "kfold = KFold(n_splits=5, random_state=42, shuffle=True)\n",
    "C=[10, 1, .1, .001, .005]\n",
    "for c in C:\n",
    "    model = LogisticRegression(penalty='l1',C=c, solver='liblinear', max_iter=100000)\n",
    "    results = cross_val_score(model, X, Y, cv=kfold)\n",
    "    print('C:',c)\n",
    "    print(\"Accuracy for K=5: %.3f%%\" % (results.mean()*100.0))\n",
    "    print('')"
   ]
  },
  {
   "cell_type": "code",
   "execution_count": null,
   "id": "d8d881b4",
   "metadata": {},
   "outputs": [],
   "source": [
    "# 10 folds selected\n",
    "print('For Problem 4.2:')\n",
    "print('')\n",
    "kfold = KFold(n_splits=10, random_state=42, shuffle=True)\n",
    "C=[10, 1, .1, .001, .005]\n",
    "for c in C:\n",
    "    model = LogisticRegression(penalty='l1',C=c, solver='liblinear',max_iter=100000)\n",
    "    results = cross_val_score(model, X, Y, cv=kfold)\n",
    "    print('C:', c)\n",
    "    print(\"Accuracy for K=5: %.3f%%\" % (results.mean()*100.0))\n",
    "    print('')"
   ]
  }
 ],
 "metadata": {
  "kernelspec": {
   "display_name": "Python 3 (ipykernel)",
   "language": "python",
   "name": "python3"
  },
  "language_info": {
   "codemirror_mode": {
    "name": "ipython",
    "version": 3
   },
   "file_extension": ".py",
   "mimetype": "text/x-python",
   "name": "python",
   "nbconvert_exporter": "python",
   "pygments_lexer": "ipython3",
   "version": "3.9.12"
  }
 },
 "nbformat": 4,
 "nbformat_minor": 5
}
