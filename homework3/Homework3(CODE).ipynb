{
 "cells": [
  {
   "cell_type": "code",
   "execution_count": null,
   "id": "878ca184",
   "metadata": {},
   "outputs": [],
   "source": [
    "import numpy as np \n",
    "import matplotlib.pyplot as plt \n",
    "import pandas as pd\n",
    "import seaborn as sns\n",
    "\n",
    "from sklearn import metrics\n",
    "from sklearn.naive_bayes import GaussianNB\n",
    "from sklearn.datasets import load_breast_cancer"
   ]
  },
  {
   "cell_type": "code",
   "execution_count": null,
   "id": "050438e7",
   "metadata": {},
   "outputs": [],
   "source": [
    "# Importing the Data Set\n",
    "breast = load_breast_cancer()\n",
    "breast_data = breast.data\n",
    "breast_target = breast.target"
   ]
  },
  {
   "cell_type": "code",
   "execution_count": null,
   "id": "0120c34e",
   "metadata": {},
   "outputs": [],
   "source": [
    "# Problem 1\n",
    "\n",
    "# Creating the naive bayes model and fitting it\n",
    "model = GaussianNB()\n",
    "model.fit(breast_data, breast_target)\n",
    "\n",
    "# Creating predictions with the test data\n",
    "expected = breast_target\n",
    "predicted = model.predict(breast_data) "
   ]
  },
  {
   "cell_type": "code",
   "execution_count": null,
   "id": "de3fd5e7",
   "metadata": {},
   "outputs": [],
   "source": [
    "# Summarize the fit of the model\n",
    "print(model)\n",
    "print(metrics.classification_report(expected, predicted))\n",
    "print(\"Accuracy: %.3f%%\" % (metrics.accuracy_score(expected, predicted)*100.0))\n",
    "print(\"Precision: %.3f%%\" % (metrics.precision_score(expected, predicted)*100.0))\n",
    "print(\"Recall: %.3f%%\" % (metrics.recall_score(expected, predicted)*100.0))\n",
    "print(metrics.confusion_matrix(expected, predicted))"
   ]
  },
  {
   "cell_type": "code",
   "execution_count": null,
   "id": "91b384e2",
   "metadata": {},
   "outputs": [],
   "source": [
    "# Problem 2 PCA Feature Extraction\n",
    "from sklearn.decomposition import PCA\n",
    "from sklearn.preprocessing import StandardScaler\n",
    "from sklearn.model_selection import train_test_split\n",
    "from sklearn.linear_model import LogisticRegression\n",
    "\n",
    "# Importing and cleaning the data\n",
    "breast = load_breast_cancer()\n",
    "breast_data = breast.data\n",
    "breast_input = pd.DataFrame(breast_data)\n",
    "breast_labels = breast.target\n",
    "labels = np.reshape(breast_labels,(569,1))\n",
    "final_breast_data = np.concatenate([breast_data,labels],axis=1)\n",
    "final_breast_data.shape\n",
    "breast_dataset = pd.DataFrame(final_breast_data)\n",
    "features = breast.feature_names\n",
    "features_labels = np.append(features,'label')\n",
    "breast_dataset.columns = features_labels\n",
    "X = breast_dataset.iloc[:,:30].values \n",
    "Y = breast_dataset.iloc[:, 30].values \n",
    "\n",
    "# Scaling the features\n",
    "sc = StandardScaler() \n",
    "std = sc.fit_transform(X)\n",
    "accuracy = []\n",
    "precision = []\n",
    "recall = []"
   ]
  },
  {
   "cell_type": "code",
   "execution_count": null,
   "id": "e6993dc1",
   "metadata": {},
   "outputs": [],
   "source": [
    "for i in range(30):\n",
    "    pca = PCA(n_components=i+1)\n",
    "    principalComponents = pca.fit_transform(std)\n",
    "    principalDf = pd.DataFrame(data = principalComponents)\n",
    "\n",
    "    # Creating the logistic model and fitting it\n",
    "    X_train, X_test, Y_train, Y_test = train_test_split(principalDf, Y, train_size = 0.80, test_size = 0.20, random_state = 42)\n",
    "    classifier = classifier = LogisticRegression(random_state = 42)\n",
    "    classifier.fit(X_train, Y_train)\n",
    "\n",
    "    # Creating predictions with the test data\n",
    "    Y_pred = classifier.predict(X_test)\n",
    "\n",
    "    accuracy.append(metrics.accuracy_score(Y_test, Y_pred))\n",
    "    precision.append(metrics.precision_score(Y_test, Y_pred))\n",
    "    recall.append(metrics.recall_score(Y_test, Y_pred))\n",
    "\n",
    "# Plotting the accuracy, precision, and recall against the iterations\n",
    "plt.figure()\n",
    "plt.rcParams.update({'axes.facecolor':'lightyellow'})\n",
    "plt.plot(range(30),accuracy, label = 'Accuracy', color = 'blue')\n",
    "plt.plot(range(30),precision, label = 'Precision', color = 'red')\n",
    "plt.plot(range(30),recall, label = 'Recall',  color = 'green')\n",
    "plt.xlabel('Principal Components', color = 'red')\n",
    "plt.title('Figure 2: Performance Vs Principal Components')\n",
    "plt.grid(linestyle='-.', linewidth='1')\n",
    "plt.legend()\n",
    "plt.show();"
   ]
  },
  {
   "cell_type": "code",
   "execution_count": null,
   "id": "771e6e48",
   "metadata": {},
   "outputs": [],
   "source": [
    "#Problem 3 PCA Feature Extraction & Naïve Bayesian\n",
    "breast = load_breast_cancer()\n",
    "breast_data = breast.data\n",
    "breast_input = pd.DataFrame(breast_data)\n",
    "breast_labels = breast.target\n",
    "labels = np.reshape(breast_labels,(569,1))\n",
    "final_breast_data = np.concatenate([breast_data,labels],axis=1)\n",
    "final_breast_data.shape\n",
    "breast_dataset = pd.DataFrame(final_breast_data)\n",
    "features = breast.feature_names\n",
    "features_labels = np.append(features,'label')\n",
    "breast_dataset.columns = features_labels\n",
    "X = breast_dataset.iloc[:,:30].values \n",
    "Y = breast_dataset.iloc[:, 30].values \n",
    "\n",
    "# Scaling the features\n",
    "sc = StandardScaler() \n",
    "std = sc.fit_transform(X)\n",
    "accuracy = []\n",
    "precision = []\n",
    "recall = []"
   ]
  },
  {
   "cell_type": "code",
   "execution_count": null,
   "id": "2ae46d26",
   "metadata": {},
   "outputs": [],
   "source": [
    "for i in range(30):\n",
    "    pca = PCA(n_components=i+1)\n",
    "    principalComponents = pca.fit_transform(std)\n",
    "    principalDf = pd.DataFrame(data = principalComponents)\n",
    "\n",
    "    # Creating the logistic model and fitting it\n",
    "    X_train, X_test, Y_train, Y_test = train_test_split(principalDf, Y, train_size = 0.80, test_size = 0.20, random_state = 42)\n",
    "    classifier = GaussianNB()\n",
    "    classifier.fit(X_train, Y_train)\n",
    "\n",
    "    # Creating predictions with the test data\n",
    "    Y_pred = classifier.predict(X_test)\n",
    "\n",
    "    accuracy.append(metrics.accuracy_score(Y_test, Y_pred))\n",
    "    precision.append(metrics.precision_score(Y_test, Y_pred))\n",
    "    recall.append(metrics.recall_score(Y_test, Y_pred))\n",
    "\n",
    "# Plotting the accuracy, precision, and recall against the iterations\n",
    "plt.figure()\n",
    "plt.rcParams.update({'axes.facecolor':'lightyellow'})\n",
    "plt.plot(range(30),accuracy, label = 'Accuracy', color = 'blue')\n",
    "plt.plot(range(30),precision, label = 'Precision', color = 'red')\n",
    "plt.plot(range(30),recall, label = 'Recall',  color = 'green')\n",
    "plt.xlabel('Principal Components', color = 'red')\n",
    "plt.title('Figure 3: Performance Vs Principal Components')\n",
    "plt.grid(linestyle='-.', linewidth='1')\n",
    "plt.legend()\n",
    "plt.show();"
   ]
  }
 ],
 "metadata": {
  "kernelspec": {
   "display_name": "Python 3 (ipykernel)",
   "language": "python",
   "name": "python3"
  },
  "language_info": {
   "codemirror_mode": {
    "name": "ipython",
    "version": 3
   },
   "file_extension": ".py",
   "mimetype": "text/x-python",
   "name": "python",
   "nbconvert_exporter": "python",
   "pygments_lexer": "ipython3",
   "version": "3.9.12"
  }
 },
 "nbformat": 4,
 "nbformat_minor": 5
}
